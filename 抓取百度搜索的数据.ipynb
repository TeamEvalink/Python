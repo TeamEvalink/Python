{
 "cells": [
  {
   "cell_type": "code",
   "execution_count": 108,
   "metadata": {
    "collapsed": true
   },
   "outputs": [],
   "source": [
    "#题目：百度搜索python，获取前5条记录的url"
   ]
  },
  {
   "cell_type": "code",
   "execution_count": 109,
   "metadata": {
    "collapsed": true
   },
   "outputs": [],
   "source": [
    "import time\n",
    "from selenium import webdriver\n",
    "titles = []\n",
    "urls = []"
   ]
  },
  {
   "cell_type": "code",
   "execution_count": 110,
   "metadata": {
    "collapsed": true
   },
   "outputs": [],
   "source": [
    "driver = webdriver.Chrome()\n",
    "driver.maximize_window() #兼容手机端"
   ]
  },
  {
   "cell_type": "code",
   "execution_count": 111,
   "metadata": {
    "collapsed": true
   },
   "outputs": [],
   "source": [
    "driver.get('http://www.baidu.com')\n",
    "input = driver.find_element_by_css_selector('input#kw')\n",
    "input.send_keys('python')\n",
    "submit = driver.find_element_by_css_selector('input#su')\n",
    "submit.click()\n",
    "time.sleep(2) #这一步很关键，这一步的意义是让数据提交之后有一个页面刷新时间，如果没有这个缓冲时间，之后将取不到数据"
   ]
  },
  {
   "cell_type": "code",
   "execution_count": 112,
   "metadata": {},
   "outputs": [],
   "source": [
    "results = driver.find_elements_by_css_selector('div#content_left > div') #ind_elements_by_css_selector抓取多个数据的时候要在element后面加个s\n",
    "count = 0\n",
    "for res in results:\n",
    "    if not res.get_attribute('id'): #网页的前两行是“为您推荐”和您可以仅查看英文结果，这两行存在影响下面选择器的工作\n",
    "        continue\n",
    "    item = res.find_element_by_css_selector('div >h3 > a')\n",
    "    title = item.text.strip()\n",
    "    url = item.get_attribute('href')\n",
    "    #print(title)\n",
    "    #print(url)\n",
    "    titles.append(title)\n",
    "    urls.append(url)\n",
    "    count +=1\n",
    "    if count >= 5:\n",
    "        break"
   ]
  },
  {
   "cell_type": "code",
   "execution_count": 113,
   "metadata": {},
   "outputs": [
    {
     "name": "stdout",
     "output_type": "stream",
     "text": [
      "['http://www.baidu.com/baidu.php?url=Ks0000aTa-gC43YbbzpSfZbJk6QoOx78AOwaccSv3y6fD-NJeKp9SghUOi6pBYgFLcVKchuzvRI-GqvF38wz_ozxSFzDLeL1xh8sU_b1MogfNZKoByjfs1vrapAe6AaLfAj80naUUNKMOilmn_lPce6lOUBjqMtMczOfvFvMyPSafocXTf.7R_imq7aGYgbS9YgRXijExIW9z4TOoOVutXB9RlQ5OVxWMzI5uME8kl27HC-2s1f_urrl1TC.U1Yk0ZDqTZ-YpAq80ZKGm1Ys0ZfqTZ-YpAq80A-V5HczPfKM5gK1n6KdpHdBmy-bIfKspyfqnfKWpyfqn1610AdY5HDsnHIxnH0krNtznjmzg1csn1-xn1msnfKopHYs0ZFY5HD3n6K-pyfqnHfdPdtzPjRdPdtznHDznNtzPj0zndtznjbzrfKBpHYznjf0UynqPW6kn1Tdnj6Yg1m3nHbsn1f3PdtznWD3n1b1nH01g17xn0KkTA-b5H00TyPGujYs0ZFMIA7M5H00ULu_5fK9mWYsg100ugFM5H00TZ0qn0K8IM0qna3snj0snj0sn0KVIZ0qn0KbuAqs5H00ThCqn0KbugmqTAn0uMfqn0KspjYs0Aq15H00mMTqnH00UMfqn0K1XWY0IZN15Hnvn16sP104nHczPj61n163P1n0ThNkIjYkPH03rH0snH0dPHnk0ZPGujd-Pyw9nAmzmH0snjKBn1Ib0AP1UHYvf10LPYndnbDsPj0LfRR30A7W5HD0TA3qn0KkUgfqn0KkUgnqn0KlIjYs0AdWgvuzUvYqn7tsg1Kxn7ts0Aw9UMNBuNqsUA78pyw15HKxn7tsg1Kxn0Ksmgwxuhk9u1Ys0AwYpyfqnsK-IA-b5iYk0A71TAPW5H00IgKGUhPW5H00Tydh5H00uhPdIjYs0AulpjYs0Au9IjYs0ZGsUZN15H00mywhUA7M5HD0UAuW5H00mLFW5Hn1rHTd&ck=0.0.0.0.0.0.0.0&shh=www.baidu.com&sht=baidu', 'http://www.baidu.com/baidu.php?url=Ks0000aTa-gC43Ybb3Q6SD54UiZ33ywm-d9njX4rQAdLHRuyFqGUt9ypFg0d2WMRefFOL1iRKVsfkWAzNqz2rp_P9glK636lQBMxVsae7qoxQgKQibUGgFwEuX8mRTh6vjzREDIEsVRFf6vk8XK819WXbhPZdbuUHWjTmGlnEh7_-FF4-f.7Y_iF8sXyl8A64DD2mJauCrKrNdtZGY8C5I7KVe3hPOmGyAp7WIug8LJ.U1Yz0ZDqTZ-YpAq80ZKGm1Ys0ZfqTZ-YpAq80A-V5HczPfKM5gK1n6KdpHdBmy-bIfKspyfqnfKWpyfqn1610AdY5Hnkn1uxnH0krNtknjDLg1nznW9xn1msnfKopHYs0ZFY5HD3n6K-pyfqnHfdPdtzPjRdPdtznHDznNtzPj0zndtznjbzrfKBpHYznjf0UynqnHRvg1m3nW03n1T1r7tvrjcvnjTdPH9xnW0zrHRvPHTsr7ts0Z7spyfqn0Kkmv-b5H00ThIYmyTqn0KEIhsq0A7B5HKxn0K-ThTqn0KsTjYs0A4vTjYsQW0snj0snj0s0AdYTjYs0AwbUL0qn0KzpWYs0Aw-IWdsmsKhIjYs0ZKC5H00ULnqn0KBI1Ykn0K8IjYs0ZPl5fKYIgnqnHT4P1TLn1DzPWfsPjRYPWfYPHT0ThNkIjYkPH03rH0snH0dPHnk0ZPGujd-Pyw9nAmzmH0snjKBn1Ib0AP1UHYvf10LPYndnbDsPj0LfRR30A7W5HD0TA3qn0KkUgfqn0KkUgnqn0KlIjYs0AdWgvuzUvYqn7tsg1Kxn7ts0Aw9UMNBuNqsUA78pyw15HKxn7tsg1Kxn0Ksmgwxuhk9u1Ys0AwYpyfqn0K-IA-b5iYk0A71TAPW5H00IgKGUhPW5H00Tydh5H00uhPdIjYs0AulpjYs0Au9IjYs0ZGsUZN15H00mywhUA7M5HD0UAuW5H00mLFW5Hm1PW0k&ck=0.0.0.0.0.0.0.0&shh=www.baidu.com&sht=baidu', 'http://www.baidu.com/baidu.php?url=Ks0000aTa-gC43Ybb1nAIl68p5jkDPm4cnldr0xzeNT-j3AbAz8ysuZC3kjSpaGsW0aLy6Wbq2JdK10vQx-Kq0wFnbm3k3ff7J523gzL7B2QM9kSTIyiU672gnEChhyOLLGzDIqcFX2PqojINbqOOr4UsNDDlsYdzlftYXDlmepxf5-pm0.7R_insYZOfS9CtJ_j50-tP7va4DDP7vaeDhjU1e32AM-WI6h9ikl_3_ZgKfYt8-P1tA-BZZjdsRP5Qa1Gk_Edwnmx5ksSv1jEen5M33xUEsSEHMsSxH9LqrZdL3x5GsSvEj_vut5M_sSEzsSLl3x5_sSEo9qXMj4e_5otrZuu9tqvZuqTrSEj4qhZdq8ZxgdsRP5Qal26h26k9tOZjeUnrO_sSxW9q8Ojlqrxj4en5ot_5VS8Z1en5ol3xgGsSXejlOj9vymx5I9vxgjEosSxu9qxU9Ld4t5MY3IOs3xUqT5M_sSLl3xUt88a9G4pauVQZ4V7aGYi-muCy2S1WuYJ0.U1Y10ZDqTZ-YpAq80ZKGm1Yk0ZfqTZ-YpAq80A-V5HczPfKM5gK1n6KdpHdBmy-bIfKspyfqnfKWpyfqn1610AdY5HDsnHIxnH0krNtknjD1g1nznW9xn1msnfKopHYs0ZFY5HD3n6K-pyfqnHfdPdtzPjRdPdtznHDznNtzPj0zndtznjbzrfKBpHYznjf0UynqPW6sPH03rjm4g1m3njRknHmkrNtzP1bvPW0vnjfYg1Dsn-ts0Z7spyfqn0Kkmv-b5H00ThIYmyTqn0KEIhsq0A7B5HKxn0K-ThTqn0KsTjYs0A4vTjYsQW0snj0snj0s0AdYTjYs0AwbUL0qn0KzpWYs0Aw-IWdsmsKhIjYs0ZKC5H00ULnqn0KBI1Ykn0K8IjYs0ZPl5fKYIgnqn10vPWDLPHn4P1DsPW6YnWDdr0Kzug7Y5HDdnj64nj0knjRdn1D0Tv-b5yRduADsuWF9nj0snAc1Pvf0mLPV5HujnjTLf1RzfH0YnjIKwH60mynqnfKsUWYs0Z7VIjYs0Z7VT1Ys0ZGY5H00UyPxuMFEUHYsg1Kxn7tsg100uA78IyF-gLK_my4GuZnqn7tsg1KxnHbznWTLn-ts0ZK9I7qhUA7M5H00uZwGujYs0ANYpyfqQHD0mgPsmvnqn0KdTA-8mvnqn0KkUymqn0KhmLNY5H00uMGC5H00uh7Y5H00XMK_Ignqn0K9uAu_myTqnfK_uhnqn0KWThnqnHT4nHm&ck=0.0.0.0.0.0.0.0&shh=www.baidu.com&sht=baidu', 'http://www.baidu.com/baidu.php?url=Ks0000aTa-gC43YbbzVnXHnKk-4-sgoyomhO8pLwtSr6aSgQmquRDJZopEluv1N8UnygHh6aHnBvcPKoeAuAaQ6Lp4Fer0nhc_SWCPgvDU_pzmEaqNivSrS51HpglGdas_DDwwVb-GGNwKZVa_Nk3ASE4nlmHYCAghMja2lp45zyq-7IXf.DR_NR2Ar5Od663rj6t_Jp7t1Q3CYfTPRA5wjR1PG6WkG9X1wW6klcphuVnA5wjR1PG4qt7jHzk8sHfGmEukmr8a9G4I2UM3PQDrrZo6CpXy7MHWuxJBm9B1L_E1SM5WYfdn1pTlXW5W9l32AM-9I7fH7fmklcphuVrxZCCNrB13tDzX8a9G4pauVQA5wfJIDGyAp7WFELUqz60.U1YY0ZDqTZ-YpAq80ZKGm1Ys0ZfqTZ-YpAq80A-V5HczPfKM5gK1n6KdpHdBmy-bIfKspyfqnfKWpyfqn1610AdY5HDsnHIxnH0kndt1nj0zg1nvnjD0pvbqn0KzIjYkrjc0uy-b5HDYPHIxnWfdPHIxnWDknW7xnWfsnWPxnW04nWb0mhbqnW0Y0AdW5HmLrHfsnjndPdt1njf3PHT4PWfdg1csnWbvn1cLP1Nxn0KkTA-b5H00TyPGujYs0ZFMIA7M5H00ULu_5fK9mWYsg100ugFM5H00TZ0qn0K8IM0qna3snj0snj0sn0KVIZ0qn0KbuAqs5H00ThCqn0KbugmqTAn0uMfqn0KspjYs0Aq15H00mMTqnH00UMfqn0K1XWY0IZN15HbsnWbknjRvnjfznHnLP1fLPHD0ThNkIjYkPH03rH0snH0dPHnk0ZPGujd-Pyw9nAmzmH0snjKBn1Ib0AP1UHYvf10LPYndnbDsPj0LfRR30A7W5HD0TA3qn0KkUgfqn0KkUgnqn0KlIjYs0AdWgvuzUvYqn7tsg1DsPjuxn0Kbmy4dmhNxTAk9Uh-bT1Ysg1Kxn7ts0ZK9I7qhUA7M5H00uZwGujYs0ANYpyfqQHD0mgPsmvnqn0KdTA-8mvnqn0KkUymqn0KhmLNY5H00uMGC5H00uh7Y5H00XMK_Ignqn0K9uAu_myTqnfK_uhnqn0KWThnqn103ns&ck=0.0.0.0.0.0.0.0&shh=www.baidu.com&sht=baidu', 'http://www.baidu.com/baidu.php?url=Ks0000aTa-gC43Ybbz8M53Gvbg7UyBPmj16UlLDM_xNFzL8HjWO-qgBfqvMBM7NwUCukqOtYChquGn0qJU3tdYOyKnO9HCERd6SiuSaRVeUba3EBXhF0UU92hVyTKoP4qamCzdoteyFacOaRB5l0Pck4s-XpbrCd5k9_EP9CTj2DGcHKX0.Db_jIgfHZfxhtMHpC2JAhaA5Vdsg_3_DOxVd33Tq-MW_tN2s1f_uPqXwf0.U1Yd0ZDqTZ-YpAq80ZKGm1Yk0ZfqTZ-YpAq80A-V5HczPfKM5gK1n6KdpHdBmy-bIfKspyfqnfKWpyfqn1610AdY5HDsnHIxnH0krNt1PW0k0AVG5H00TMfqnH6z0ANGujYkPjRLg1cYPHRLg1cknHckg1cYnjc1g1csrHc40AFG5HcsP7tkPHR0UynqPWm3PWRdnjmsg1mvrjmdPH0vrNts0Z7spyfqn0Kkmv-b5H00ThIYmyTqn0KEIhsq0A7B5HKxn0K-ThTqn0KsTjYs0A4vTjYsQW0snj0snj0s0AdYTjYs0AwbUL0qn0KzpWYs0Aw-IWdsmsKhIjYs0ZKC5H00ULnqn0KBI1Ykn0K8IjYs0ZPl5fKYIgnqPHnLPjTdnHbkP104nWT4nHTYP6Kzug7Y5HDdnj64nj0knjRdn1D0Tv-b5yRduADsuWF9nj0snAc1Pvf0mLPV5HujnjTLf1RzfH0YnjIKwH60mynqnfKsUWYs0Z7VIjYs0Z7VT1Ys0ZGY5H00UyPxuMFEUHYsg1Kxn0Kbmy4dmhNxTAk9Uh-bT1Ysg1Kxn0Ksmgwxuhk9u1Ys0AwYpyfqn0K-IA-b5iYk0A71TAPW5H00IgKGUhPW5H00Tydh5H00uhPdIjYs0AulpjYs0Au9IjYs0ZGsUZN15H00mywhUA7M5HD0UAuW5H00mLFW5HcsnWmz&ck=0.0.0.0.0.0.0.0&shh=www.baidu.com&sht=baidu'] ['python_简单易懂_实战课程应有尽有_基于Python的全栈开发', '实战python培训python课程python名师python项目', 'python?-体验华为软件开发云CloudIDE', '体验Python语言编程 - 下载PyCharm智能集成开发工具', 'python课程一站式-包含自动化测试和接口测试']\n"
     ]
    }
   ],
   "source": [
    "print(urls,titles)"
   ]
  },
  {
   "cell_type": "code",
   "execution_count": 114,
   "metadata": {
    "collapsed": true
   },
   "outputs": [],
   "source": [
    "driver.quit()"
   ]
  },
  {
   "cell_type": "code",
   "execution_count": null,
   "metadata": {
    "collapsed": true
   },
   "outputs": [],
   "source": []
  }
 ],
 "metadata": {
  "kernelspec": {
   "display_name": "Python 3",
   "language": "python",
   "name": "python3"
  },
  "language_info": {
   "codemirror_mode": {
    "name": "ipython",
    "version": 3
   },
   "file_extension": ".py",
   "mimetype": "text/x-python",
   "name": "python",
   "nbconvert_exporter": "python",
   "pygments_lexer": "ipython3",
   "version": "3.6.1"
  }
 },
 "nbformat": 4,
 "nbformat_minor": 2
}
