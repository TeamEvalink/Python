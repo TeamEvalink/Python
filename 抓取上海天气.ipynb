{
 "cells": [
  {
   "cell_type": "code",
   "execution_count": 21,
   "metadata": {
    "collapsed": true
   },
   "outputs": [],
   "source": [
    "#题目：http://www.weather.com.cn/weather/101020100.shtml抓取天气，温度，风力"
   ]
  },
  {
   "cell_type": "code",
   "execution_count": 22,
   "metadata": {
    "collapsed": true
   },
   "outputs": [],
   "source": [
    "import requests\n",
    "from bs4 import BeautifulSoup"
   ]
  },
  {
   "cell_type": "code",
   "execution_count": 23,
   "metadata": {
    "collapsed": true
   },
   "outputs": [],
   "source": [
    "UA = 'Mozilla/5.0 (Macintosh; Intel Mac OS X 10_12_5) AppleWebKit/537.36 (KHTML, like Gecko) Chrome/59.0.3071.115 Safari/537.36'\n",
    "HEADER = {'user-agent':UA}\n",
    "url = 'http://www.weather.com.cn/weather/101020100.shtml'\n",
    "weathers = []\n",
    "temperatures = []\n",
    "winds = []"
   ]
  },
  {
   "cell_type": "code",
   "execution_count": 24,
   "metadata": {},
   "outputs": [],
   "source": [
    "resp = requests.get(url)\n",
    "text = resp.text.encode('ISO-8859-1').decode('utf-8')\n",
    "bs = BeautifulSoup(text,'html5lib')\n",
    "items = bs.select('ul.t.clearfix > li')\n",
    "for item in items:\n",
    "    weather = item.select('p.wea')[0].text.strip()\n",
    "    temperature = item.select('p.tem')[0].text.strip()\n",
    "    wind = item.select('p.win')[0].text.strip()\n",
    "    \n",
    "    weathers.append(weather)\n",
    "    temperatures.append(temperature)\n",
    "    winds.append(wind)"
   ]
  },
  {
   "cell_type": "code",
   "execution_count": 25,
   "metadata": {
    "collapsed": true
   },
   "outputs": [],
   "source": [
    "dic = {'天气':weathers,'温度':temperatures,'风力':winds}"
   ]
  },
  {
   "cell_type": "code",
   "execution_count": 26,
   "metadata": {
    "collapsed": true
   },
   "outputs": [],
   "source": [
    "import pandas as pd\n",
    "dic_pd = pd.DataFrame(dic)"
   ]
  },
  {
   "cell_type": "code",
   "execution_count": 27,
   "metadata": {},
   "outputs": [
    {
     "data": {
      "text/html": [
       "<div>\n",
       "<style>\n",
       "    .dataframe thead tr:only-child th {\n",
       "        text-align: right;\n",
       "    }\n",
       "\n",
       "    .dataframe thead th {\n",
       "        text-align: left;\n",
       "    }\n",
       "\n",
       "    .dataframe tbody tr th {\n",
       "        vertical-align: top;\n",
       "    }\n",
       "</style>\n",
       "<table border=\"1\" class=\"dataframe\">\n",
       "  <thead>\n",
       "    <tr style=\"text-align: right;\">\n",
       "      <th></th>\n",
       "      <th>天气</th>\n",
       "      <th>温度</th>\n",
       "      <th>风力</th>\n",
       "    </tr>\n",
       "  </thead>\n",
       "  <tbody>\n",
       "    <tr>\n",
       "      <th>0</th>\n",
       "      <td>晴</td>\n",
       "      <td>13℃</td>\n",
       "      <td>微风</td>\n",
       "    </tr>\n",
       "    <tr>\n",
       "      <th>1</th>\n",
       "      <td>晴</td>\n",
       "      <td>20℃/14℃</td>\n",
       "      <td>微风</td>\n",
       "    </tr>\n",
       "    <tr>\n",
       "      <th>2</th>\n",
       "      <td>晴转多云</td>\n",
       "      <td>22℃/15℃</td>\n",
       "      <td>微风</td>\n",
       "    </tr>\n",
       "    <tr>\n",
       "      <th>3</th>\n",
       "      <td>多云</td>\n",
       "      <td>21℃/15℃</td>\n",
       "      <td>微风</td>\n",
       "    </tr>\n",
       "    <tr>\n",
       "      <th>4</th>\n",
       "      <td>晴转多云</td>\n",
       "      <td>22℃/15℃</td>\n",
       "      <td>微风</td>\n",
       "    </tr>\n",
       "    <tr>\n",
       "      <th>5</th>\n",
       "      <td>晴</td>\n",
       "      <td>21℃/12℃</td>\n",
       "      <td>4-5级</td>\n",
       "    </tr>\n",
       "    <tr>\n",
       "      <th>6</th>\n",
       "      <td>晴</td>\n",
       "      <td>19℃/11℃</td>\n",
       "      <td>微风</td>\n",
       "    </tr>\n",
       "  </tbody>\n",
       "</table>\n",
       "</div>"
      ],
      "text/plain": [
       "     天气       温度    风力\n",
       "0     晴      13℃    微风\n",
       "1     晴  20℃/14℃    微风\n",
       "2  晴转多云  22℃/15℃    微风\n",
       "3    多云  21℃/15℃    微风\n",
       "4  晴转多云  22℃/15℃    微风\n",
       "5     晴  21℃/12℃  4-5级\n",
       "6     晴  19℃/11℃    微风"
      ]
     },
     "execution_count": 27,
     "metadata": {},
     "output_type": "execute_result"
    }
   ],
   "source": [
    "dic_pd"
   ]
  },
  {
   "cell_type": "code",
   "execution_count": null,
   "metadata": {
    "collapsed": true
   },
   "outputs": [],
   "source": []
  }
 ],
 "metadata": {
  "kernelspec": {
   "display_name": "Python 3",
   "language": "python",
   "name": "python3"
  },
  "language_info": {
   "codemirror_mode": {
    "name": "ipython",
    "version": 3
   },
   "file_extension": ".py",
   "mimetype": "text/x-python",
   "name": "python",
   "nbconvert_exporter": "python",
   "pygments_lexer": "ipython3",
   "version": "3.6.1"
  }
 },
 "nbformat": 4,
 "nbformat_minor": 2
}
